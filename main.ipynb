{
 "cells": [
  {
   "cell_type": "code",
   "execution_count": null,
   "metadata": {},
   "outputs": [],
   "source": [
    "import math\n",
    "import time\n",
    "%matplotlib inline\n",
    "import matplotlib.pyplot as plt\n",
    "from matplotlib.colors import Normalize, Colormap\n",
    "import torch\n",
    "\n",
    "from lasso.linear import dict_learning, dict_evaluate\n",
    "from lasso.linear import sparse_encode\n",
    "import pylops\n",
    "import pylops_gpu"
   ]
  },
  {
   "cell_type": "code",
   "execution_count": 8,
   "metadata": {},
   "outputs": [
    {
     "name": "stderr",
     "output_type": "stream",
     "text": [
      "  0%|          | 0/60 [00:00<?, ?it/s]"
     ]
    },
    {
     "name": "stderr",
     "output_type": "stream",
     "text": [
      "100%|██████████| 60/60 [00:25<00:00,  2.36it/s, loss=4.58e+3]\n"
     ]
    }
   ],
   "source": [
    "# dummy data matrix\n",
    "data = torch.randn(768, 10000)\n",
    "\n",
    "# Dictionary Learning\n",
    "dictionary, losses = dict_learning(data, n_components=50, alpha=0.5, algorithm='ista')\n",
    "\n",
    "# Sparse Coding (lasso solve)\n",
    "#coeffs = sparse_encode(data, dictionary, alpha=0.2, algorithm='interior-point')"
   ]
  },
  {
   "cell_type": "code",
   "execution_count": null,
   "metadata": {},
   "outputs": [],
   "source": []
  }
 ],
 "metadata": {
  "kernelspec": {
   "display_name": "myenv",
   "language": "python",
   "name": "python3"
  },
  "language_info": {
   "codemirror_mode": {
    "name": "ipython",
    "version": 3
   },
   "file_extension": ".py",
   "mimetype": "text/x-python",
   "name": "python",
   "nbconvert_exporter": "python",
   "pygments_lexer": "ipython3",
   "version": "3.8.10"
  }
 },
 "nbformat": 4,
 "nbformat_minor": 2
}
